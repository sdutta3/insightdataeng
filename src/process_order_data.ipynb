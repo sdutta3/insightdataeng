{
 "cells": [
  {
   "cell_type": "code",
   "execution_count": 1,
   "metadata": {},
   "outputs": [],
   "source": [
    "# Product purchase analytics\n",
    "# Sumit Dutta\n",
    "# 7/1/2019\n",
    "# Runs in Python 3"
   ]
  },
  {
   "cell_type": "code",
   "execution_count": 2,
   "metadata": {},
   "outputs": [],
   "source": [
    "import csv\n",
    "# import numpy as np"
   ]
  },
  {
   "cell_type": "code",
   "execution_count": 3,
   "metadata": {},
   "outputs": [],
   "source": [
    "orders = []\n",
    "product_ct = {}\n",
    "first_p_ct = {}\n",
    "with open('../input/order_products.csv') as csvfile:\n",
    "    try:\n",
    "        reader = csv.DictReader(csvfile, fieldnames=('order_id','product_id','add_to_cart_order','reordered'))\n",
    "        line_number = 0\n",
    "        for row in reader:\n",
    "            line_number += 1\n",
    "            if (line_number == 1):\n",
    "                continue\n",
    "            # print(row)\n",
    "            product_id = int(row['product_id'])\n",
    "            if product_id in product_ct.keys():\n",
    "                product_ct[product_id] = product_ct[product_id] + 1\n",
    "            else:\n",
    "                product_ct[product_id] = 1\n",
    "            first_time_ordered = not(bool(int(row['reordered'])))\n",
    "            if (first_time_ordered):\n",
    "                if product_id in first_p_ct.keys():\n",
    "                    first_p_ct[product_id] = first_p_ct[product_id] + 1\n",
    "                else:\n",
    "                    first_p_ct[product_id] = 1\n",
    "    except Exception as e:\n",
    "        print(e)\n",
    "# csvfile.close()"
   ]
  },
  {
   "cell_type": "code",
   "execution_count": 4,
   "metadata": {},
   "outputs": [
    {
     "name": "stdout",
     "output_type": "stream",
     "text": [
      "{33120: 1, 28985: 1, 9327: 1, 45918: 1, 17668: 1, 46667: 1, 17461: 1, 32665: 1, 46842: 1}\n"
     ]
    }
   ],
   "source": [
    "print(product_ct)"
   ]
  },
  {
   "cell_type": "code",
   "execution_count": 5,
   "metadata": {},
   "outputs": [
    {
     "name": "stdout",
     "output_type": "stream",
     "text": [
      "{9327: 1, 46842: 1}\n"
     ]
    }
   ],
   "source": [
    "print(first_p_ct)"
   ]
  },
  {
   "cell_type": "code",
   "execution_count": 6,
   "metadata": {},
   "outputs": [],
   "source": [
    "departments = []\n",
    "dept_products = {}\n",
    "with open('../input/products.csv') as csvfile:\n",
    "    try:\n",
    "        reader = csv.DictReader(csvfile, fieldnames=('product_id','product_name','aisle_id','department_id'))\n",
    "        line_number = 0\n",
    "        for row in reader:\n",
    "            line_number += 1\n",
    "            if (line_number == 1):\n",
    "                continue\n",
    "            # print(row)\n",
    "            product_id = int(row['product_id'])\n",
    "            dept_id = int(row['department_id'])\n",
    "            if dept_id in dept_products.keys():\n",
    "                if not(product_id in dept_products[dept_id]):\n",
    "                    dept_products[dept_id].append(product_id)\n",
    "            else:\n",
    "                dept_products[dept_id] = [product_id]\n",
    "    except Exception as e:\n",
    "        print(e)\n",
    "# csvfile.close()"
   ]
  },
  {
   "cell_type": "code",
   "execution_count": 7,
   "metadata": {},
   "outputs": [
    {
     "name": "stdout",
     "output_type": "stream",
     "text": [
      "{13: [9327, 45918], 12: [17461], 16: [17668, 33120], 4: [28985, 46667], 3: [32665, 46842]}\n"
     ]
    }
   ],
   "source": [
    "print(dept_products)"
   ]
  },
  {
   "cell_type": "code",
   "execution_count": 8,
   "metadata": {},
   "outputs": [],
   "source": [
    "# Put ordered list of products ordered, and ordered for the first time into a new dictionary data structure\n",
    "dept_orders = {}\n",
    "dept_orders_csv = [['department_id','number_of_orders','number_of_first_orders','percentage']]\n",
    "for dept_id in sorted(dept_products.keys()):\n",
    "    product_ids = dept_products[dept_id]\n",
    "    department_order_sum = 0\n",
    "    department_first_order_sum = 0\n",
    "    for product_id in product_ids:\n",
    "        if (product_id in product_ct.keys()):\n",
    "            department_order_sum += product_ct[product_id]\n",
    "        if (product_id in first_p_ct.keys()):\n",
    "            department_first_order_sum += first_p_ct[product_id]\n",
    "    number_of_orders = department_order_sum\n",
    "    number_of_first_orders = department_first_order_sum\n",
    "    percentage = number_of_first_orders / number_of_orders\n",
    "    dept_orders[dept_id] = [number_of_orders,number_of_first_orders,percentage]\n",
    "    dept_orders_csv.append([dept_id,number_of_orders,number_of_first_orders,percentage])\n",
    "    \n",
    "\n",
    "    \n",
    "# List this department only if number_of_orders > 0\n",
    "#%.2f"
   ]
  },
  {
   "cell_type": "code",
   "execution_count": 9,
   "metadata": {},
   "outputs": [
    {
     "name": "stdout",
     "output_type": "stream",
     "text": [
      "{3: [2, 1, 0.5], 4: [2, 0, 0.0], 12: [1, 0, 0.0], 13: [2, 1, 0.5], 16: [2, 0, 0.0]}\n"
     ]
    }
   ],
   "source": [
    "print(dept_orders)"
   ]
  },
  {
   "cell_type": "code",
   "execution_count": 10,
   "metadata": {},
   "outputs": [],
   "source": [
    "with open('../output/report.csv', 'w') as outcsvfile:\n",
    "    writer = csv.writer(outcsvfile)\n",
    "    writer.writerows(dept_orders_csv)\n",
    "\n",
    "outcsvfile.close()"
   ]
  },
  {
   "cell_type": "code",
   "execution_count": null,
   "metadata": {},
   "outputs": [],
   "source": []
  }
 ],
 "metadata": {
  "kernelspec": {
   "display_name": "Python 3",
   "language": "python",
   "name": "python3"
  },
  "language_info": {
   "codemirror_mode": {
    "name": "ipython",
    "version": 3
   },
   "file_extension": ".py",
   "mimetype": "text/x-python",
   "name": "python",
   "nbconvert_exporter": "python",
   "pygments_lexer": "ipython3",
   "version": "3.7.1"
  }
 },
 "nbformat": 4,
 "nbformat_minor": 2
}
